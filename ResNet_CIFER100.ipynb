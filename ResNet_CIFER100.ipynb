{
  "nbformat": 4,
  "nbformat_minor": 0,
  "metadata": {
    "colab": {
      "name": "ResNet_CIFER100.ipynb",
      "provenance": [],
      "authorship_tag": "ABX9TyN5wQrDhcXuVr478xYronD8",
      "include_colab_link": true
    },
    "kernelspec": {
      "name": "python3",
      "display_name": "Python 3"
    },
    "language_info": {
      "name": "python"
    },
    "accelerator": "GPU"
  },
  "cells": [
    {
      "cell_type": "markdown",
      "metadata": {
        "id": "view-in-github",
        "colab_type": "text"
      },
      "source": [
        "<a href=\"https://colab.research.google.com/github/Somu112/My_DL_practice_step_by_step/blob/main/ResNet_CIFER100.ipynb\" target=\"_parent\"><img src=\"https://colab.research.google.com/assets/colab-badge.svg\" alt=\"Open In Colab\"/></a>"
      ]
    },
    {
      "cell_type": "markdown",
      "metadata": {
        "id": "bkKJBypeW8p2"
      },
      "source": [
        "***RESNET***"
      ]
    },
    {
      "cell_type": "code",
      "metadata": {
        "id": "iMHj7PB6jS52"
      },
      "source": [
        "import numpy as np\n",
        "\n",
        "def get_random_eraser(p=0.5, s_l=0.02, s_h=0.4, r_1=0.3, r_2=1/0.3, v_l=0, v_h=255, pixel_level=False):\n",
        "    def eraser(input_img):\n",
        "        img_h, img_w, img_c = input_img.shape\n",
        "        p_1 = np.random.rand()\n",
        "\n",
        "        if p_1 > p:\n",
        "            return input_img\n",
        "\n",
        "        while True:\n",
        "            s = np.random.uniform(s_l, s_h) * img_h * img_w\n",
        "            r = np.random.uniform(r_1, r_2)\n",
        "            w = int(np.sqrt(s / r))\n",
        "            h = int(np.sqrt(s * r))\n",
        "            left = np.random.randint(0, img_w)\n",
        "            top = np.random.randint(0, img_h)\n",
        "\n",
        "            if left + w <= img_w and top + h <= img_h:\n",
        "                break\n",
        "\n",
        "        if pixel_level:\n",
        "            c = np.random.uniform(v_l, v_h, (h, w, img_c))\n",
        "        else:\n",
        "            c = np.random.uniform(v_l, v_h)\n",
        "\n",
        "        input_img[top:top + h, left:left + w, :] = c\n",
        "\n",
        "        return input_img\n",
        "\n",
        "    return eraser"
      ],
      "execution_count": 12,
      "outputs": []
    },
    {
      "cell_type": "code",
      "metadata": {
        "id": "DXLUsK8ZaoMt"
      },
      "source": [
        "from tensorflow.keras.applications.resnet50 import ResNet50, preprocess_input\n",
        "\n",
        "import tensorflow.keras as keras\n",
        "from tensorflow.keras.models import Model, Sequential\n",
        "from tensorflow.keras.layers import Input, UpSampling2D, Flatten, BatchNormalization, Dense, Dropout, GlobalAveragePooling2D\n",
        "from tensorflow.keras import optimizers\n",
        "from keras.datasets import cifar100\n",
        "import tensorflow as tf\n",
        "from keras.utils import np_utils\n",
        "import numpy as np\n",
        "import matplotlib.pyplot as plt\n",
        "import time\n",
        "from skimage.transform import resize\n",
        "from keras.applications.resnet50 import preprocess_input, decode_predictions\n",
        "from keras_preprocessing.image import ImageDataGenerator"
      ],
      "execution_count": 13,
      "outputs": []
    },
    {
      "cell_type": "code",
      "metadata": {
        "id": "2N-azOiqcnlN"
      },
      "source": [
        "num_classes = 100\n",
        "np_epochs = 100\n",
        "(x_train, y_train), (x_test, y_test) = cifar100.load_data()\n",
        "\n",
        "x_train = preprocess_input(x_train)\n",
        "x_test  = preprocess_input(x_test)\n",
        "\n",
        "datagen = ImageDataGenerator(preprocessing_function=get_random_eraser(v_l=0, v_h=1, pixel_level=True))\n",
        "datagen.fit(x_train)"
      ],
      "execution_count": 14,
      "outputs": []
    },
    {
      "cell_type": "code",
      "metadata": {
        "id": "qFxaoS9-f1LN"
      },
      "source": [
        "y_train = np_utils.to_categorical(y_train, num_classes)\n",
        "y_test = np_utils.to_categorical(y_test, num_classes)"
      ],
      "execution_count": 15,
      "outputs": []
    },
    {
      "cell_type": "code",
      "metadata": {
        "id": "fMRMnS9ydo7N"
      },
      "source": [
        "resnet_model = ResNet50(weights='imagenet', include_top=False, input_shape=(256, 256, 3))\n",
        "\n",
        "\n",
        "for layer in resnet_model.layers:\n",
        "  if isinstance(layer, BatchNormalization):\n",
        "    layer.trainable = True\n",
        "  else:\n",
        "    layer.trainable = False\n",
        "\n",
        "model = Sequential()\n",
        "model.add(UpSampling2D())\n",
        "model.add(UpSampling2D())\n",
        "model.add(UpSampling2D())\n",
        "model.add(resnet_model)\n",
        "model.add(GlobalAveragePooling2D())\n",
        "model.add(Dense(256, activation='relu'))\n",
        "model.add(Dropout(.25))\n",
        "model.add(BatchNormalization())\n",
        "model.add(Dense(num_classes, activation='softmax'))"
      ],
      "execution_count": 16,
      "outputs": []
    },
    {
      "cell_type": "code",
      "metadata": {
        "id": "xfcuqH1mg3rr"
      },
      "source": [
        "model.compile(loss='categorical_crossentropy',optimizer='adam',metrics=['accuracy'])"
      ],
      "execution_count": 17,
      "outputs": []
    },
    {
      "cell_type": "code",
      "metadata": {
        "colab": {
          "base_uri": "https://localhost:8080/"
        },
        "id": "rDvBKE3rhMnv",
        "outputId": "c6553a91-3962-4523-ce37-538001766b34"
      },
      "source": [
        "t=time.time()\n",
        "\n",
        "historytemp = model.fit(datagen.flow(x_train, y_train,\n",
        "                                     batch_size=16),\n",
        "                        steps_per_epoch=100,\n",
        "                        epochs=np_epochs,\n",
        "                        validation_data=(x_test, y_test))\n",
        "\n",
        "print('Traning time: %s' % (t - time.time()))"
      ],
      "execution_count": 18,
      "outputs": [
        {
          "output_type": "stream",
          "text": [
            "Epoch 1/100\n",
            "100/100 [==============================] - 117s 1s/step - loss: 4.3921 - accuracy: 0.0694 - val_loss: 3.8741 - val_accuracy: 0.1135\n",
            "Epoch 2/100\n",
            "100/100 [==============================] - 107s 1s/step - loss: 3.6333 - accuracy: 0.1525 - val_loss: 3.1726 - val_accuracy: 0.2155\n",
            "Epoch 3/100\n",
            "100/100 [==============================] - 108s 1s/step - loss: 3.2393 - accuracy: 0.2100 - val_loss: 2.7247 - val_accuracy: 0.3269\n",
            "Epoch 4/100\n",
            "100/100 [==============================] - 108s 1s/step - loss: 2.9492 - accuracy: 0.2831 - val_loss: 2.3591 - val_accuracy: 0.3927\n",
            "Epoch 5/100\n",
            "100/100 [==============================] - 108s 1s/step - loss: 2.8028 - accuracy: 0.3063 - val_loss: 2.1559 - val_accuracy: 0.4290\n",
            "Epoch 6/100\n",
            "100/100 [==============================] - 107s 1s/step - loss: 2.6322 - accuracy: 0.3356 - val_loss: 2.0372 - val_accuracy: 0.4577\n",
            "Epoch 7/100\n",
            "100/100 [==============================] - 107s 1s/step - loss: 2.4550 - accuracy: 0.3812 - val_loss: 1.8987 - val_accuracy: 0.4734\n",
            "Epoch 8/100\n",
            "100/100 [==============================] - 108s 1s/step - loss: 2.3879 - accuracy: 0.3938 - val_loss: 1.7796 - val_accuracy: 0.5210\n",
            "Epoch 9/100\n",
            "100/100 [==============================] - 108s 1s/step - loss: 2.2287 - accuracy: 0.4219 - val_loss: 1.5793 - val_accuracy: 0.5520\n",
            "Epoch 10/100\n",
            "100/100 [==============================] - 108s 1s/step - loss: 2.1384 - accuracy: 0.4469 - val_loss: 1.5155 - val_accuracy: 0.5730\n",
            "Epoch 11/100\n",
            "100/100 [==============================] - 115s 1s/step - loss: 2.0620 - accuracy: 0.4569 - val_loss: 1.4607 - val_accuracy: 0.5859\n",
            "Epoch 12/100\n",
            "100/100 [==============================] - 108s 1s/step - loss: 1.9231 - accuracy: 0.4825 - val_loss: 1.4256 - val_accuracy: 0.5909\n",
            "Epoch 13/100\n",
            "100/100 [==============================] - 108s 1s/step - loss: 1.8753 - accuracy: 0.5038 - val_loss: 1.3534 - val_accuracy: 0.6109\n",
            "Epoch 14/100\n",
            "100/100 [==============================] - 108s 1s/step - loss: 1.9431 - accuracy: 0.4806 - val_loss: 1.3596 - val_accuracy: 0.6058\n",
            "Epoch 15/100\n",
            "100/100 [==============================] - 108s 1s/step - loss: 1.8841 - accuracy: 0.4994 - val_loss: 1.3274 - val_accuracy: 0.6231\n",
            "Epoch 16/100\n",
            "100/100 [==============================] - 108s 1s/step - loss: 1.7986 - accuracy: 0.5306 - val_loss: 1.3984 - val_accuracy: 0.6018\n",
            "Epoch 17/100\n",
            "100/100 [==============================] - 108s 1s/step - loss: 1.7536 - accuracy: 0.5125 - val_loss: 1.2634 - val_accuracy: 0.6420\n",
            "Epoch 18/100\n",
            "100/100 [==============================] - 108s 1s/step - loss: 1.7578 - accuracy: 0.5263 - val_loss: 1.2197 - val_accuracy: 0.6408\n",
            "Epoch 19/100\n",
            "100/100 [==============================] - 108s 1s/step - loss: 1.7674 - accuracy: 0.5044 - val_loss: 1.2036 - val_accuracy: 0.6451\n",
            "Epoch 20/100\n",
            "100/100 [==============================] - 108s 1s/step - loss: 1.6497 - accuracy: 0.5306 - val_loss: 1.1641 - val_accuracy: 0.6615\n",
            "Epoch 21/100\n",
            "100/100 [==============================] - 108s 1s/step - loss: 1.7024 - accuracy: 0.5356 - val_loss: 1.1777 - val_accuracy: 0.6515\n",
            "Epoch 22/100\n",
            "100/100 [==============================] - 108s 1s/step - loss: 1.6569 - accuracy: 0.5325 - val_loss: 1.1714 - val_accuracy: 0.6590\n",
            "Epoch 23/100\n",
            "100/100 [==============================] - 108s 1s/step - loss: 1.6513 - accuracy: 0.5475 - val_loss: 1.1647 - val_accuracy: 0.6688\n",
            "Epoch 24/100\n",
            "100/100 [==============================] - 108s 1s/step - loss: 1.6032 - accuracy: 0.5594 - val_loss: 1.1182 - val_accuracy: 0.6672\n",
            "Epoch 25/100\n",
            "100/100 [==============================] - 108s 1s/step - loss: 1.5904 - accuracy: 0.5581 - val_loss: 1.0899 - val_accuracy: 0.6752\n",
            "Epoch 26/100\n",
            "100/100 [==============================] - 108s 1s/step - loss: 1.5662 - accuracy: 0.5675 - val_loss: 1.0952 - val_accuracy: 0.6753\n",
            "Epoch 27/100\n",
            "100/100 [==============================] - 108s 1s/step - loss: 1.5648 - accuracy: 0.5719 - val_loss: 1.1116 - val_accuracy: 0.6693\n",
            "Epoch 28/100\n",
            "100/100 [==============================] - 108s 1s/step - loss: 1.5608 - accuracy: 0.5713 - val_loss: 1.1100 - val_accuracy: 0.6737\n",
            "Epoch 29/100\n",
            "100/100 [==============================] - 115s 1s/step - loss: 1.5281 - accuracy: 0.5806 - val_loss: 1.0858 - val_accuracy: 0.6869\n",
            "Epoch 30/100\n",
            "100/100 [==============================] - 108s 1s/step - loss: 1.5688 - accuracy: 0.5825 - val_loss: 1.0920 - val_accuracy: 0.6803\n",
            "Epoch 31/100\n",
            "100/100 [==============================] - 108s 1s/step - loss: 1.4809 - accuracy: 0.5681 - val_loss: 1.0493 - val_accuracy: 0.6918\n",
            "Epoch 32/100\n",
            "100/100 [==============================] - 108s 1s/step - loss: 1.5463 - accuracy: 0.5850 - val_loss: 1.1022 - val_accuracy: 0.6812\n",
            "Epoch 33/100\n",
            "100/100 [==============================] - 108s 1s/step - loss: 1.4794 - accuracy: 0.5856 - val_loss: 1.0421 - val_accuracy: 0.6914\n",
            "Epoch 34/100\n",
            "100/100 [==============================] - 108s 1s/step - loss: 1.4884 - accuracy: 0.5825 - val_loss: 1.0428 - val_accuracy: 0.6941\n",
            "Epoch 35/100\n",
            "100/100 [==============================] - 108s 1s/step - loss: 1.4594 - accuracy: 0.5750 - val_loss: 0.9989 - val_accuracy: 0.7037\n",
            "Epoch 36/100\n",
            "100/100 [==============================] - 108s 1s/step - loss: 1.4728 - accuracy: 0.5925 - val_loss: 1.0343 - val_accuracy: 0.6984\n",
            "Epoch 37/100\n",
            "100/100 [==============================] - 108s 1s/step - loss: 1.4512 - accuracy: 0.6006 - val_loss: 0.9790 - val_accuracy: 0.7064\n",
            "Epoch 38/100\n",
            "100/100 [==============================] - 108s 1s/step - loss: 1.4318 - accuracy: 0.5913 - val_loss: 0.9842 - val_accuracy: 0.7085\n",
            "Epoch 39/100\n",
            "100/100 [==============================] - 108s 1s/step - loss: 1.4762 - accuracy: 0.5881 - val_loss: 0.9937 - val_accuracy: 0.7040\n",
            "Epoch 40/100\n",
            "100/100 [==============================] - 108s 1s/step - loss: 1.4482 - accuracy: 0.5969 - val_loss: 0.9847 - val_accuracy: 0.7077\n",
            "Epoch 41/100\n",
            "100/100 [==============================] - 108s 1s/step - loss: 1.3515 - accuracy: 0.6194 - val_loss: 0.9795 - val_accuracy: 0.7119\n",
            "Epoch 42/100\n",
            "100/100 [==============================] - 108s 1s/step - loss: 1.3858 - accuracy: 0.6094 - val_loss: 0.9702 - val_accuracy: 0.7073\n",
            "Epoch 43/100\n",
            "100/100 [==============================] - 108s 1s/step - loss: 1.3438 - accuracy: 0.6325 - val_loss: 0.9488 - val_accuracy: 0.7160\n",
            "Epoch 44/100\n",
            "100/100 [==============================] - 108s 1s/step - loss: 1.3443 - accuracy: 0.6237 - val_loss: 0.9461 - val_accuracy: 0.7156\n",
            "Epoch 45/100\n",
            "100/100 [==============================] - 108s 1s/step - loss: 1.3741 - accuracy: 0.6119 - val_loss: 0.9282 - val_accuracy: 0.7223\n",
            "Epoch 46/100\n",
            "100/100 [==============================] - 108s 1s/step - loss: 1.3851 - accuracy: 0.6137 - val_loss: 0.9491 - val_accuracy: 0.7192\n",
            "Epoch 47/100\n",
            "100/100 [==============================] - 108s 1s/step - loss: 1.3864 - accuracy: 0.6244 - val_loss: 0.9437 - val_accuracy: 0.7253\n",
            "Epoch 48/100\n",
            "100/100 [==============================] - 108s 1s/step - loss: 1.3473 - accuracy: 0.6194 - val_loss: 0.9450 - val_accuracy: 0.7215\n",
            "Epoch 49/100\n",
            "100/100 [==============================] - 108s 1s/step - loss: 1.3757 - accuracy: 0.6150 - val_loss: 0.9423 - val_accuracy: 0.7204\n",
            "Epoch 50/100\n",
            "100/100 [==============================] - 108s 1s/step - loss: 1.2774 - accuracy: 0.6344 - val_loss: 0.9335 - val_accuracy: 0.7266\n",
            "Epoch 51/100\n",
            "100/100 [==============================] - 108s 1s/step - loss: 1.3374 - accuracy: 0.6225 - val_loss: 0.9217 - val_accuracy: 0.7310\n",
            "Epoch 52/100\n",
            "100/100 [==============================] - 108s 1s/step - loss: 1.3345 - accuracy: 0.6263 - val_loss: 0.9122 - val_accuracy: 0.7280\n",
            "Epoch 53/100\n",
            "100/100 [==============================] - 108s 1s/step - loss: 1.3428 - accuracy: 0.6125 - val_loss: 0.9680 - val_accuracy: 0.7168\n",
            "Epoch 54/100\n",
            "100/100 [==============================] - 108s 1s/step - loss: 1.2954 - accuracy: 0.6219 - val_loss: 0.9208 - val_accuracy: 0.7268\n",
            "Epoch 55/100\n",
            "100/100 [==============================] - 108s 1s/step - loss: 1.3225 - accuracy: 0.6219 - val_loss: 0.9005 - val_accuracy: 0.7378\n",
            "Epoch 56/100\n",
            "100/100 [==============================] - 115s 1s/step - loss: 1.3099 - accuracy: 0.6187 - val_loss: 0.8880 - val_accuracy: 0.7364\n",
            "Epoch 57/100\n",
            "100/100 [==============================] - 108s 1s/step - loss: 1.2351 - accuracy: 0.6562 - val_loss: 0.8817 - val_accuracy: 0.7402\n",
            "Epoch 58/100\n",
            "100/100 [==============================] - 108s 1s/step - loss: 1.2724 - accuracy: 0.6394 - val_loss: 0.9031 - val_accuracy: 0.7368\n",
            "Epoch 59/100\n",
            "100/100 [==============================] - 108s 1s/step - loss: 1.3473 - accuracy: 0.6269 - val_loss: 0.9210 - val_accuracy: 0.7291\n",
            "Epoch 60/100\n",
            "100/100 [==============================] - 108s 1s/step - loss: 1.2944 - accuracy: 0.6269 - val_loss: 0.9034 - val_accuracy: 0.7339\n",
            "Epoch 61/100\n",
            "100/100 [==============================] - 108s 1s/step - loss: 1.2921 - accuracy: 0.6313 - val_loss: 0.8900 - val_accuracy: 0.7369\n",
            "Epoch 62/100\n",
            "100/100 [==============================] - 108s 1s/step - loss: 1.2997 - accuracy: 0.6469 - val_loss: 0.8868 - val_accuracy: 0.7320\n",
            "Epoch 63/100\n",
            "100/100 [==============================] - 108s 1s/step - loss: 1.2531 - accuracy: 0.6431 - val_loss: 0.8802 - val_accuracy: 0.7368\n",
            "Epoch 64/100\n",
            "100/100 [==============================] - 108s 1s/step - loss: 1.2195 - accuracy: 0.6531 - val_loss: 0.8872 - val_accuracy: 0.7375\n",
            "Epoch 65/100\n",
            "100/100 [==============================] - 108s 1s/step - loss: 1.2932 - accuracy: 0.6456 - val_loss: 0.8893 - val_accuracy: 0.7360\n",
            "Epoch 66/100\n",
            "100/100 [==============================] - 108s 1s/step - loss: 1.3331 - accuracy: 0.6075 - val_loss: 0.8612 - val_accuracy: 0.7418\n",
            "Epoch 67/100\n",
            "100/100 [==============================] - 108s 1s/step - loss: 1.2488 - accuracy: 0.6463 - val_loss: 0.8542 - val_accuracy: 0.7436\n",
            "Epoch 68/100\n",
            "100/100 [==============================] - 108s 1s/step - loss: 1.2140 - accuracy: 0.6513 - val_loss: 0.8548 - val_accuracy: 0.7437\n",
            "Epoch 69/100\n",
            "100/100 [==============================] - 108s 1s/step - loss: 1.2200 - accuracy: 0.6419 - val_loss: 0.8696 - val_accuracy: 0.7449\n",
            "Epoch 70/100\n",
            "100/100 [==============================] - 108s 1s/step - loss: 1.2655 - accuracy: 0.6313 - val_loss: 0.8650 - val_accuracy: 0.7431\n",
            "Epoch 71/100\n",
            "100/100 [==============================] - 108s 1s/step - loss: 1.2373 - accuracy: 0.6575 - val_loss: 0.8681 - val_accuracy: 0.7413\n",
            "Epoch 72/100\n",
            "100/100 [==============================] - 108s 1s/step - loss: 1.1922 - accuracy: 0.6569 - val_loss: 0.8678 - val_accuracy: 0.7453\n",
            "Epoch 73/100\n",
            "100/100 [==============================] - 108s 1s/step - loss: 1.2580 - accuracy: 0.6463 - val_loss: 0.8953 - val_accuracy: 0.7393\n",
            "Epoch 74/100\n",
            "100/100 [==============================] - 108s 1s/step - loss: 1.2296 - accuracy: 0.6425 - val_loss: 0.9050 - val_accuracy: 0.7368\n",
            "Epoch 75/100\n",
            "100/100 [==============================] - 108s 1s/step - loss: 1.1650 - accuracy: 0.6625 - val_loss: 0.8774 - val_accuracy: 0.7418\n",
            "Epoch 76/100\n",
            "100/100 [==============================] - 108s 1s/step - loss: 1.2304 - accuracy: 0.6375 - val_loss: 0.8483 - val_accuracy: 0.7481\n",
            "Epoch 77/100\n",
            "100/100 [==============================] - 108s 1s/step - loss: 1.2652 - accuracy: 0.6381 - val_loss: 0.8613 - val_accuracy: 0.7459\n",
            "Epoch 78/100\n",
            "100/100 [==============================] - 108s 1s/step - loss: 1.2416 - accuracy: 0.6425 - val_loss: 0.8511 - val_accuracy: 0.7486\n",
            "Epoch 79/100\n",
            "100/100 [==============================] - 108s 1s/step - loss: 1.1805 - accuracy: 0.6587 - val_loss: 0.8626 - val_accuracy: 0.7471\n",
            "Epoch 80/100\n",
            "100/100 [==============================] - 108s 1s/step - loss: 1.1569 - accuracy: 0.6625 - val_loss: 0.8686 - val_accuracy: 0.7460\n",
            "Epoch 81/100\n",
            "100/100 [==============================] - 109s 1s/step - loss: 1.1834 - accuracy: 0.6675 - val_loss: 0.8519 - val_accuracy: 0.7472\n",
            "Epoch 82/100\n",
            "100/100 [==============================] - 110s 1s/step - loss: 1.1815 - accuracy: 0.6631 - val_loss: 0.8651 - val_accuracy: 0.7434\n",
            "Epoch 83/100\n",
            "100/100 [==============================] - 108s 1s/step - loss: 1.2526 - accuracy: 0.6438 - val_loss: 0.8423 - val_accuracy: 0.7534\n",
            "Epoch 84/100\n",
            "100/100 [==============================] - 107s 1s/step - loss: 1.2578 - accuracy: 0.6538 - val_loss: 0.8474 - val_accuracy: 0.7475\n",
            "Epoch 85/100\n",
            "100/100 [==============================] - 107s 1s/step - loss: 1.2100 - accuracy: 0.6519 - val_loss: 0.8484 - val_accuracy: 0.7535\n",
            "Epoch 86/100\n",
            "100/100 [==============================] - 109s 1s/step - loss: 1.1941 - accuracy: 0.6762 - val_loss: 0.8404 - val_accuracy: 0.7490\n",
            "Epoch 87/100\n",
            "100/100 [==============================] - 108s 1s/step - loss: 1.1230 - accuracy: 0.6756 - val_loss: 0.8433 - val_accuracy: 0.7500\n",
            "Epoch 88/100\n",
            "100/100 [==============================] - 108s 1s/step - loss: 1.1716 - accuracy: 0.6619 - val_loss: 0.8485 - val_accuracy: 0.7503\n",
            "Epoch 89/100\n",
            "100/100 [==============================] - 107s 1s/step - loss: 1.1503 - accuracy: 0.6625 - val_loss: 0.8390 - val_accuracy: 0.7515\n",
            "Epoch 90/100\n",
            "100/100 [==============================] - 107s 1s/step - loss: 1.1622 - accuracy: 0.6669 - val_loss: 0.8403 - val_accuracy: 0.7550\n",
            "Epoch 91/100\n",
            "100/100 [==============================] - 107s 1s/step - loss: 1.1463 - accuracy: 0.6656 - val_loss: 0.8631 - val_accuracy: 0.7443\n",
            "Epoch 92/100\n",
            "100/100 [==============================] - 109s 1s/step - loss: 1.1541 - accuracy: 0.6769 - val_loss: 0.8364 - val_accuracy: 0.7492\n",
            "Epoch 93/100\n",
            "100/100 [==============================] - 107s 1s/step - loss: 1.1900 - accuracy: 0.6513 - val_loss: 0.8180 - val_accuracy: 0.7528\n",
            "Epoch 94/100\n",
            "100/100 [==============================] - 108s 1s/step - loss: 1.1335 - accuracy: 0.6869 - val_loss: 0.8232 - val_accuracy: 0.7529\n",
            "Epoch 95/100\n",
            "100/100 [==============================] - 107s 1s/step - loss: 1.2123 - accuracy: 0.6619 - val_loss: 0.8490 - val_accuracy: 0.7492\n",
            "Epoch 96/100\n",
            "100/100 [==============================] - 108s 1s/step - loss: 1.1740 - accuracy: 0.6581 - val_loss: 0.8386 - val_accuracy: 0.7528\n",
            "Epoch 97/100\n",
            "100/100 [==============================] - 107s 1s/step - loss: 1.1713 - accuracy: 0.6606 - val_loss: 0.8271 - val_accuracy: 0.7549\n",
            "Epoch 98/100\n",
            "100/100 [==============================] - 107s 1s/step - loss: 1.1669 - accuracy: 0.6725 - val_loss: 0.8119 - val_accuracy: 0.7568\n",
            "Epoch 99/100\n",
            "100/100 [==============================] - 107s 1s/step - loss: 1.1270 - accuracy: 0.6888 - val_loss: 0.8286 - val_accuracy: 0.7558\n",
            "Epoch 100/100\n",
            "100/100 [==============================] - 107s 1s/step - loss: 1.1225 - accuracy: 0.6631 - val_loss: 0.8112 - val_accuracy: 0.7566\n",
            "Traning time: -12461.92825627327\n"
          ],
          "name": "stdout"
        }
      ]
    },
    {
      "cell_type": "code",
      "metadata": {
        "colab": {
          "base_uri": "https://localhost:8080/"
        },
        "id": "5cAbURjz3Z9K",
        "outputId": "7ec1ff02-a1c3-4941-ae11-2f352682cd7e"
      },
      "source": [
        "!nvidia-smi"
      ],
      "execution_count": 19,
      "outputs": [
        {
          "output_type": "stream",
          "text": [
            "Tue Aug 17 13:28:15 2021       \n",
            "+-----------------------------------------------------------------------------+\n",
            "| NVIDIA-SMI 470.57.02    Driver Version: 460.32.03    CUDA Version: 11.2     |\n",
            "|-------------------------------+----------------------+----------------------+\n",
            "| GPU  Name        Persistence-M| Bus-Id        Disp.A | Volatile Uncorr. ECC |\n",
            "| Fan  Temp  Perf  Pwr:Usage/Cap|         Memory-Usage | GPU-Util  Compute M. |\n",
            "|                               |                      |               MIG M. |\n",
            "|===============================+======================+======================|\n",
            "|   0  Tesla K80           Off  | 00000000:00:04.0 Off |                    0 |\n",
            "| N/A   63C    P0    67W / 149W |   8442MiB / 11441MiB |      0%      Default |\n",
            "|                               |                      |                  N/A |\n",
            "+-------------------------------+----------------------+----------------------+\n",
            "                                                                               \n",
            "+-----------------------------------------------------------------------------+\n",
            "| Processes:                                                                  |\n",
            "|  GPU   GI   CI        PID   Type   Process name                  GPU Memory |\n",
            "|        ID   ID                                                   Usage      |\n",
            "|=============================================================================|\n",
            "|  No running processes found                                                 |\n",
            "+-----------------------------------------------------------------------------+\n"
          ],
          "name": "stdout"
        }
      ]
    },
    {
      "cell_type": "code",
      "metadata": {
        "id": "RNDN2pmYMhb8"
      },
      "source": [
        ""
      ],
      "execution_count": null,
      "outputs": []
    }
  ]
}